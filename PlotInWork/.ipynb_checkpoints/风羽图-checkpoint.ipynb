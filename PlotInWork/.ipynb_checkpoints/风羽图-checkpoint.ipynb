{
 "cells": [
  {
   "cell_type": "markdown",
   "metadata": {},
   "source": [
    "# 绘制风羽图"
   ]
  },
  {
   "cell_type": "markdown",
   "metadata": {
    "toc": true
   },
   "source": [
    "<h1>Table of Contents<span class=\"tocSkip\"></span></h1>\n",
    "<div class=\"toc\"><ul class=\"toc-item\"><li><span><a href=\"#使用barbs()实现\" data-toc-modified-id=\"使用barbs()实现-1\"><span class=\"toc-item-num\">1&nbsp;&nbsp;</span>使用barbs()实现</a></span></li></ul></div>"
   ]
  },
  {
   "cell_type": "markdown",
   "metadata": {},
   "source": [
    "## 使用barbs()实现"
   ]
  },
  {
   "cell_type": "code",
   "execution_count": 1,
   "metadata": {},
   "outputs": [],
   "source": [
    "import numpy as np\n",
    "import pandas as pd\n",
    "import matplotlib.pyplot as plt\n",
    "from datetime import datetime"
   ]
  },
  {
   "cell_type": "code",
   "execution_count": 6,
   "metadata": {},
   "outputs": [],
   "source": [
    "# 设置绘制标准与气象匹配\n",
    "barb_increments = {'half': 2, \n",
    "                   'full': 4,\n",
    "                   'flag': 20}"
   ]
  },
  {
   "cell_type": "code",
   "execution_count": 12,
   "metadata": {},
   "outputs": [
    {
     "data": {
      "image/png": "[encoded data removed]",
      "text/plain": [
       "<Figure size 432x432 with 1 Axes>"
      ]
     },
     "metadata": {
      "needs_background": "light"
     },
     "output_type": "display_data"
    }
   ],
   "source": [
    "fig, ax = plt.subplots(figsize=(6, 6))\n",
    "ax.barbs(0, 0, np.sqrt(2), np.sqrt(2), barb_increments=barb_increments)\n",
    "plt.show()"
   ]
  },
  {
   "cell_type": "code",
   "execution_count": 3,
   "metadata": {},
   "outputs": [
    {
     "data": {
      "text/html": [
       "<div>\n",
       "<style scoped>\n",
       "    .dataframe tbody tr th:only-of-type {\n",
       "        vertical-align: middle;\n",
       "    }\n",
       "\n",
       "    .dataframe tbody tr th {\n",
       "        vertical-align: top;\n",
       "    }\n",
       "\n",
       "    .dataframe thead th {\n",
       "        text-align: right;\n",
       "    }\n",
       "</style>\n",
       "<table border=\"1\" class=\"dataframe\">\n",
       "  <thead>\n",
       "    <tr style=\"text-align: right;\">\n",
       "      <th></th>\n",
       "      <th>站点</th>\n",
       "      <th>时间</th>\n",
       "      <th>风向</th>\n",
       "      <th>风速</th>\n",
       "      <th>PM10</th>\n",
       "      <th>PM2.5</th>\n",
       "    </tr>\n",
       "  </thead>\n",
       "  <tbody>\n",
       "    <tr>\n",
       "      <th>13</th>\n",
       "      <td>中堂</td>\n",
       "      <td>2019-07-16 00:00:00</td>\n",
       "      <td>176.3</td>\n",
       "      <td>1.9</td>\n",
       "      <td>50</td>\n",
       "      <td>26</td>\n",
       "    </tr>\n",
       "    <tr>\n",
       "      <th>49</th>\n",
       "      <td>中堂</td>\n",
       "      <td>2019-07-16 01:00:00</td>\n",
       "      <td>193</td>\n",
       "      <td>1.8</td>\n",
       "      <td>61</td>\n",
       "      <td>25</td>\n",
       "    </tr>\n",
       "    <tr>\n",
       "      <th>85</th>\n",
       "      <td>中堂</td>\n",
       "      <td>2019-07-16 02:00:00</td>\n",
       "      <td>189.8</td>\n",
       "      <td>1.4</td>\n",
       "      <td>58</td>\n",
       "      <td>26</td>\n",
       "    </tr>\n",
       "    <tr>\n",
       "      <th>121</th>\n",
       "      <td>中堂</td>\n",
       "      <td>2019-07-16 03:00:00</td>\n",
       "      <td>189.3</td>\n",
       "      <td>1.2</td>\n",
       "      <td>55</td>\n",
       "      <td>27</td>\n",
       "    </tr>\n",
       "    <tr>\n",
       "      <th>157</th>\n",
       "      <td>中堂</td>\n",
       "      <td>2019-07-16 04:00:00</td>\n",
       "      <td>186.3</td>\n",
       "      <td>0.4</td>\n",
       "      <td>57</td>\n",
       "      <td>28</td>\n",
       "    </tr>\n",
       "    <tr>\n",
       "      <th>...</th>\n",
       "      <td>...</td>\n",
       "      <td>...</td>\n",
       "      <td>...</td>\n",
       "      <td>...</td>\n",
       "      <td>...</td>\n",
       "      <td>...</td>\n",
       "    </tr>\n",
       "    <tr>\n",
       "      <th>5053</th>\n",
       "      <td>中堂</td>\n",
       "      <td>2019-07-21 20:00:00</td>\n",
       "      <td>205.1</td>\n",
       "      <td>1.3</td>\n",
       "      <td>51</td>\n",
       "      <td>20</td>\n",
       "    </tr>\n",
       "    <tr>\n",
       "      <th>5089</th>\n",
       "      <td>中堂</td>\n",
       "      <td>2019-07-21 21:00:00</td>\n",
       "      <td>212.6</td>\n",
       "      <td>1.1</td>\n",
       "      <td>56</td>\n",
       "      <td>19</td>\n",
       "    </tr>\n",
       "    <tr>\n",
       "      <th>5125</th>\n",
       "      <td>中堂</td>\n",
       "      <td>2019-07-21 22:00:00</td>\n",
       "      <td>233.3</td>\n",
       "      <td>0.9</td>\n",
       "      <td>41</td>\n",
       "      <td>17</td>\n",
       "    </tr>\n",
       "    <tr>\n",
       "      <th>5161</th>\n",
       "      <td>中堂</td>\n",
       "      <td>2019-07-21 23:00:00</td>\n",
       "      <td>181.9</td>\n",
       "      <td>0.5</td>\n",
       "      <td>45</td>\n",
       "      <td>19</td>\n",
       "    </tr>\n",
       "    <tr>\n",
       "      <th>5197</th>\n",
       "      <td>中堂</td>\n",
       "      <td>2019-07-22 00:00:00</td>\n",
       "      <td>178.2</td>\n",
       "      <td>0.5</td>\n",
       "      <td>55</td>\n",
       "      <td>23</td>\n",
       "    </tr>\n",
       "  </tbody>\n",
       "</table>\n",
       "<p>145 rows × 6 columns</p>\n",
       "</div>"
      ],
      "text/plain": [
       "      站点                  时间     风向   风速 PM10 PM2.5\n",
       "13    中堂 2019-07-16 00:00:00  176.3  1.9   50    26\n",
       "49    中堂 2019-07-16 01:00:00    193  1.8   61    25\n",
       "85    中堂 2019-07-16 02:00:00  189.8  1.4   58    26\n",
       "121   中堂 2019-07-16 03:00:00  189.3  1.2   55    27\n",
       "157   中堂 2019-07-16 04:00:00  186.3  0.4   57    28\n",
       "...   ..                 ...    ...  ...  ...   ...\n",
       "5053  中堂 2019-07-21 20:00:00  205.1  1.3   51    20\n",
       "5089  中堂 2019-07-21 21:00:00  212.6  1.1   56    19\n",
       "5125  中堂 2019-07-21 22:00:00  233.3  0.9   41    17\n",
       "5161  中堂 2019-07-21 23:00:00  181.9  0.5   45    19\n",
       "5197  中堂 2019-07-22 00:00:00  178.2  0.5   55    23\n",
       "\n",
       "[145 rows x 6 columns]"
      ]
     },
     "execution_count": 3,
     "metadata": {},
     "output_type": "execute_result"
    }
   ],
   "source": [
    "file = r'../data/station_pollution.xls'\n",
    "df = pd.read_excel(file, usecols=[1, 2, 6, 7, 13, 16], na_values='—')\n",
    "data = df[df['站点'] == '中堂']\n",
    "data.loc[:, '时间'] = data['时间'].apply(lambda s: datetime.strptime(s, '%Y年%m月%d日 %H时'))\n",
    "data"
   ]
  },
  {
   "cell_type": "code",
   "execution_count": 3,
   "metadata": {},
   "outputs": [],
   "source": []
  }
 ],
 "metadata": {
  "kernelspec": {
   "display_name": "Python 3.8.1 64-bit",
   "language": "python",
   "name": "python38164bite5fe43bacf6f47aeb3faa90b88476768"
  },
  "language_info": {
   "codemirror_mode": {
    "name": "ipython",
    "version": 3
   },
   "file_extension": ".py",
   "mimetype": "text/x-python",
   "name": "python",
   "nbconvert_exporter": "python",
   "pygments_lexer": "ipython3",
   "version": "3.8.1"
  },
  "toc": {
   "base_numbering": 1,
   "nav_menu": {},
   "number_sections": true,
   "sideBar": true,
   "skip_h1_title": true,
   "title_cell": "Table of Contents",
   "title_sidebar": "Contents",
   "toc_cell": true,
   "toc_position": {},
   "toc_section_display": true,
   "toc_window_display": false
  },
  "varInspector": {
   "cols": {
    "lenName": 16,
    "lenType": 16,
    "lenVar": 40
   },
   "kernels_config": {
    "python": {
     "delete_cmd_postfix": "",
     "delete_cmd_prefix": "del ",
     "library": "var_list.py",
     "varRefreshCmd": "print(var_dic_list())"
    },
    "r": {
     "delete_cmd_postfix": ") ",
     "delete_cmd_prefix": "rm(",
     "library": "var_list.r",
     "varRefreshCmd": "cat(var_dic_list()) "
    }
   },
   "types_to_exclude": [
    "module",
    "function",
    "builtin_function_or_method",
    "instance",
    "_Feature"
   ],
   "window_display": false
  }
 },
 "nbformat": 4,
 "nbformat_minor": 2
}
