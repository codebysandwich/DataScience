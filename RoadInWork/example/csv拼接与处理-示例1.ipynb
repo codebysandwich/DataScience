{
 "cells": [
  {
   "cell_type": "markdown",
   "metadata": {},
   "source": [
    "# csv拼接与处理-示例1 "
   ]
  },
  {
   "cell_type": "markdown",
   "metadata": {
    "toc": true
   },
   "source": [
    "<h1>Table of Contents<span class=\"tocSkip\"></span></h1>\n",
    "<div class=\"toc\"><ul class=\"toc-item\"><li><span><a href=\"#处理数据\" data-toc-modified-id=\"处理数据-1\"><span class=\"toc-item-num\">1&nbsp;&nbsp;</span>处理数据</a></span></li><li><span><a href=\"#将所有的文件遍历出来\" data-toc-modified-id=\"将所有的文件遍历出来-2\"><span class=\"toc-item-num\">2&nbsp;&nbsp;</span>将所有的文件遍历出来</a></span></li><li><span><a href=\"#解决文件顺序的问题\" data-toc-modified-id=\"解决文件顺序的问题-3\"><span class=\"toc-item-num\">3&nbsp;&nbsp;</span>解决文件顺序的问题</a></span></li><li><span><a href=\"#将所有的文件读取后，按列拼接好！\" data-toc-modified-id=\"将所有的文件读取后，按列拼接好！-4\"><span class=\"toc-item-num\">4&nbsp;&nbsp;</span>将所有的文件读取后，按列拼接好！</a></span></li><li><span><a href=\"#解决时间格式问题\" data-toc-modified-id=\"解决时间格式问题-5\"><span class=\"toc-item-num\">5&nbsp;&nbsp;</span>解决时间格式问题</a></span></li><li><span><a href=\"#将边界层数据中,问题处理下\" data-toc-modified-id=\"将边界层数据中,问题处理下-6\"><span class=\"toc-item-num\">6&nbsp;&nbsp;</span>将边界层数据中,问题处理下</a></span></li><li><span><a href=\"#完成分组依据计算出来\" data-toc-modified-id=\"完成分组依据计算出来-7\"><span class=\"toc-item-num\">7&nbsp;&nbsp;</span>完成分组依据计算出来</a></span></li><li><span><a href=\"#分组求均值，并保存文件\" data-toc-modified-id=\"分组求均值，并保存文件-8\"><span class=\"toc-item-num\">8&nbsp;&nbsp;</span>分组求均值，并保存文件</a></span></li></ul></div>"
   ]
  },
  {
   "cell_type": "markdown",
   "metadata": {},
   "source": [
    "## 处理数据\n",
    "\n",
    "- 读取文件\n",
    "- 注意时间顺序"
   ]
  },
  {
   "cell_type": "code",
   "execution_count": 1,
   "metadata": {},
   "outputs": [],
   "source": [
    "import numpy as np\n",
    "import pandas as pd\n",
    "import os\n",
    "from datetime import datetime"
   ]
  },
  {
   "cell_type": "markdown",
   "metadata": {},
   "source": [
    "## 将所有的文件遍历出来"
   ]
  },
  {
   "cell_type": "code",
   "execution_count": 2,
   "metadata": {
    "scrolled": true
   },
   "outputs": [
    {
     "data": {
      "text/plain": [
       "['info_pgraph_201801.txt',\n",
       " 'info_pgraph_201803.txt',\n",
       " 'info_pgraph_201802.txt',\n",
       " 'info_pgraph_202102.txt',\n",
       " 'info_pgraph_201609.txt',\n",
       " 'info_pgraph_201812.txt',\n",
       " 'info_pgraph_201806.txt',\n",
       " 'info_pgraph_201807.txt',\n",
       " 'info_pgraph_201608.txt',\n",
       " 'info_pgraph_202103.txt',\n",
       " 'info_pgraph_202101.txt',\n",
       " 'info_pgraph_201805.txt',\n",
       " 'info_pgraph_201811.txt',\n",
       " 'info_pgraph_201810.txt',\n",
       " 'info_pgraph_201804.txt',\n",
       " 'info_pgraph_201903.txt',\n",
       " 'info_pgraph_202007.txt',\n",
       " 'info_pgraph_202012.txt',\n",
       " 'info_pgraph_202006.txt',\n",
       " 'info_pgraph_201902.txt',\n",
       " 'info_pgraph_202010.txt',\n",
       " 'info_pgraph_202004.txt',\n",
       " 'info_pgraph_202005.txt',\n",
       " 'info_pgraph_202011.txt',\n",
       " 'info_pgraph_201901.txt',\n",
       " 'info_pgraph_201905.txt',\n",
       " 'info_pgraph_201911.txt',\n",
       " 'info_pgraph_202001.txt',\n",
       " 'info_pgraph_201910.txt',\n",
       " 'info_pgraph_201904.txt',\n",
       " 'info_pgraph_201709.txt',\n",
       " 'info_pgraph_201912.txt',\n",
       " 'info_pgraph_201906.txt',\n",
       " 'info_pgraph_202002.txt',\n",
       " 'info_pgraph_202003.txt',\n",
       " 'info_pgraph_201708.txt',\n",
       " 'info_pgraph_201711.txt',\n",
       " 'info_pgraph_201705.txt',\n",
       " 'info_pgraph_201506.txt',\n",
       " 'info_pgraph_201512.txt',\n",
       " 'info_pgraph_201704.txt',\n",
       " 'info_pgraph_201710.txt',\n",
       " 'info_pgraph_201706.txt',\n",
       " 'info_pgraph_201712.txt',\n",
       " 'info_pgraph_201909.txt',\n",
       " 'info_pgraph_201510.txt',\n",
       " 'info_pgraph_201511.txt',\n",
       " 'info_pgraph_201505.txt',\n",
       " 'info_pgraph_201707.txt',\n",
       " 'info_pgraph_201703.txt',\n",
       " 'info_pgraph_202008.txt',\n",
       " 'info_pgraph_202009.txt',\n",
       " 'info_pgraph_201702.txt',\n",
       " 'info_pgraph_201701.txt',\n",
       " 'info_pgraph_201606.txt',\n",
       " 'info_pgraph_201612.txt',\n",
       " 'info_pgraph_201809.txt',\n",
       " 'info_pgraph_201808.txt',\n",
       " 'info_pgraph_201607.txt',\n",
       " 'info_pgraph_201611.txt',\n",
       " 'info_pgraph_201605.txt',\n",
       " 'info_pgraph_201604.txt',\n",
       " 'info_pgraph_201610.txt',\n",
       " 'info_pgraph_201601.txt',\n",
       " 'info_pgraph_201603.txt',\n",
       " 'info_pgraph_201602.txt']"
      ]
     },
     "execution_count": 2,
     "metadata": {},
     "output_type": "execute_result"
    }
   ],
   "source": [
    "path = r'/Users/caizhiming/Documents/MyCode/TO_YY/BJC/'\n",
    "files = os.listdir(path)\n",
    "files"
   ]
  },
  {
   "cell_type": "markdown",
   "metadata": {},
   "source": [
    "## 解决文件顺序的问题"
   ]
  },
  {
   "cell_type": "code",
   "execution_count": 3,
   "metadata": {
    "scrolled": true
   },
   "outputs": [
    {
     "data": {
      "text/plain": [
       "['info_pgraph_201505.txt',\n",
       " 'info_pgraph_201506.txt',\n",
       " 'info_pgraph_201510.txt',\n",
       " 'info_pgraph_201511.txt',\n",
       " 'info_pgraph_201512.txt',\n",
       " 'info_pgraph_201601.txt',\n",
       " 'info_pgraph_201602.txt',\n",
       " 'info_pgraph_201603.txt',\n",
       " 'info_pgraph_201604.txt',\n",
       " 'info_pgraph_201605.txt',\n",
       " 'info_pgraph_201606.txt',\n",
       " 'info_pgraph_201607.txt',\n",
       " 'info_pgraph_201608.txt',\n",
       " 'info_pgraph_201609.txt',\n",
       " 'info_pgraph_201610.txt',\n",
       " 'info_pgraph_201611.txt',\n",
       " 'info_pgraph_201612.txt',\n",
       " 'info_pgraph_201701.txt',\n",
       " 'info_pgraph_201702.txt',\n",
       " 'info_pgraph_201703.txt',\n",
       " 'info_pgraph_201704.txt',\n",
       " 'info_pgraph_201705.txt',\n",
       " 'info_pgraph_201706.txt',\n",
       " 'info_pgraph_201707.txt',\n",
       " 'info_pgraph_201708.txt',\n",
       " 'info_pgraph_201709.txt',\n",
       " 'info_pgraph_201710.txt',\n",
       " 'info_pgraph_201711.txt',\n",
       " 'info_pgraph_201712.txt',\n",
       " 'info_pgraph_201801.txt',\n",
       " 'info_pgraph_201802.txt',\n",
       " 'info_pgraph_201803.txt',\n",
       " 'info_pgraph_201804.txt',\n",
       " 'info_pgraph_201805.txt',\n",
       " 'info_pgraph_201806.txt',\n",
       " 'info_pgraph_201807.txt',\n",
       " 'info_pgraph_201808.txt',\n",
       " 'info_pgraph_201809.txt',\n",
       " 'info_pgraph_201810.txt',\n",
       " 'info_pgraph_201811.txt',\n",
       " 'info_pgraph_201812.txt',\n",
       " 'info_pgraph_201901.txt',\n",
       " 'info_pgraph_201902.txt',\n",
       " 'info_pgraph_201903.txt',\n",
       " 'info_pgraph_201904.txt',\n",
       " 'info_pgraph_201905.txt',\n",
       " 'info_pgraph_201906.txt',\n",
       " 'info_pgraph_201909.txt',\n",
       " 'info_pgraph_201910.txt',\n",
       " 'info_pgraph_201911.txt',\n",
       " 'info_pgraph_201912.txt',\n",
       " 'info_pgraph_202001.txt',\n",
       " 'info_pgraph_202002.txt',\n",
       " 'info_pgraph_202003.txt',\n",
       " 'info_pgraph_202004.txt',\n",
       " 'info_pgraph_202005.txt',\n",
       " 'info_pgraph_202006.txt',\n",
       " 'info_pgraph_202007.txt',\n",
       " 'info_pgraph_202008.txt',\n",
       " 'info_pgraph_202009.txt',\n",
       " 'info_pgraph_202010.txt',\n",
       " 'info_pgraph_202011.txt',\n",
       " 'info_pgraph_202012.txt',\n",
       " 'info_pgraph_202101.txt',\n",
       " 'info_pgraph_202102.txt',\n",
       " 'info_pgraph_202103.txt']"
      ]
     },
     "execution_count": 3,
     "metadata": {},
     "output_type": "execute_result"
    }
   ],
   "source": [
    "# def bubble(items, files):\n",
    "#     length = len(items)\n",
    "#     for i in range(1, length):\n",
    "#         for j in range(length-i):\n",
    "#             if items[j] > items[j+1]:\n",
    "#                 items[j], items[j+1] = items[j+1], items[j]\n",
    "#                 files[j], files[j+1] = files[j+1], files[j]\n",
    "                \n",
    "# items = [int(file.split('_')[-1].split('.')[0]) for file in files]\n",
    "# bubble(items, files)\n",
    "# files\n",
    "files = sorted(files, key=lambda s: int(s.split('_')[-1].split('.')[0]))\n",
    "files"
   ]
  },
  {
   "cell_type": "markdown",
   "metadata": {},
   "source": [
    "## 将所有的文件读取后，按列拼接好！"
   ]
  },
  {
   "cell_type": "code",
   "execution_count": 4,
   "metadata": {},
   "outputs": [
    {
     "data": {
      "text/html": [
       "<div>\n",
       "<style scoped>\n",
       "    .dataframe tbody tr th:only-of-type {\n",
       "        vertical-align: middle;\n",
       "    }\n",
       "\n",
       "    .dataframe tbody tr th {\n",
       "        vertical-align: top;\n",
       "    }\n",
       "\n",
       "    .dataframe thead th {\n",
       "        text-align: right;\n",
       "    }\n",
       "</style>\n",
       "<table border=\"1\" class=\"dataframe\">\n",
       "  <thead>\n",
       "    <tr style=\"text-align: right;\">\n",
       "      <th></th>\n",
       "      <th>0</th>\n",
       "      <th>1</th>\n",
       "    </tr>\n",
       "  </thead>\n",
       "  <tbody>\n",
       "    <tr>\n",
       "      <th>0</th>\n",
       "      <td>2015/5/26 14:48:31</td>\n",
       "      <td>1.605</td>\n",
       "    </tr>\n",
       "    <tr>\n",
       "      <th>1</th>\n",
       "      <td>2015/5/26 15:36:40</td>\n",
       "      <td>1.4325</td>\n",
       "    </tr>\n",
       "    <tr>\n",
       "      <th>2</th>\n",
       "      <td>2015/5/26 15:42:23</td>\n",
       "      <td>1.725</td>\n",
       "    </tr>\n",
       "    <tr>\n",
       "      <th>3</th>\n",
       "      <td>2015/5/26 16:02:48</td>\n",
       "      <td>1.605</td>\n",
       "    </tr>\n",
       "    <tr>\n",
       "      <th>4</th>\n",
       "      <td>2015/5/26 16:03:42</td>\n",
       "      <td>1.6275</td>\n",
       "    </tr>\n",
       "    <tr>\n",
       "      <th>...</th>\n",
       "      <td>...</td>\n",
       "      <td>...</td>\n",
       "    </tr>\n",
       "    <tr>\n",
       "      <th>4913</th>\n",
       "      <td>2021/3/17 11:01:18</td>\n",
       "      <td>NaN</td>\n",
       "    </tr>\n",
       "    <tr>\n",
       "      <th>4914</th>\n",
       "      <td>2021/3/17 11:06:12</td>\n",
       "      <td>NaN</td>\n",
       "    </tr>\n",
       "    <tr>\n",
       "      <th>4915</th>\n",
       "      <td>2021/3/17 11:11:06</td>\n",
       "      <td>NaN</td>\n",
       "    </tr>\n",
       "    <tr>\n",
       "      <th>4916</th>\n",
       "      <td>2021/3/17 11:16:00</td>\n",
       "      <td>NaN</td>\n",
       "    </tr>\n",
       "    <tr>\n",
       "      <th>4917</th>\n",
       "      <td>2021/3/17 11:20:52</td>\n",
       "      <td>NaN</td>\n",
       "    </tr>\n",
       "  </tbody>\n",
       "</table>\n",
       "<p>546766 rows × 2 columns</p>\n",
       "</div>"
      ],
      "text/plain": [
       "                       0       1\n",
       "0     2015/5/26 14:48:31   1.605\n",
       "1     2015/5/26 15:36:40  1.4325\n",
       "2     2015/5/26 15:42:23   1.725\n",
       "3     2015/5/26 16:02:48   1.605\n",
       "4     2015/5/26 16:03:42  1.6275\n",
       "...                  ...     ...\n",
       "4913  2021/3/17 11:01:18     NaN\n",
       "4914  2021/3/17 11:06:12     NaN\n",
       "4915  2021/3/17 11:11:06     NaN\n",
       "4916  2021/3/17 11:16:00     NaN\n",
       "4917  2021/3/17 11:20:52     NaN\n",
       "\n",
       "[546766 rows x 2 columns]"
      ]
     },
     "execution_count": 4,
     "metadata": {},
     "output_type": "execute_result"
    }
   ],
   "source": [
    "def gen(files):\n",
    "    for file in files:\n",
    "        df = pd.read_csv(os.path.join(path, file), sep='\\t', header=None)\n",
    "        if len(df.columns) > 2:\n",
    "            df = df[[1, 4]].rename(columns={1: 0, 4: 1})\n",
    "        yield df\n",
    "df = pd.concat(gen(files))\n",
    "df"
   ]
  },
  {
   "cell_type": "markdown",
   "metadata": {},
   "source": [
    "## 解决时间格式问题"
   ]
  },
  {
   "cell_type": "code",
   "execution_count": 5,
   "metadata": {},
   "outputs": [
    {
     "name": "stdout",
     "output_type": "stream",
     "text": [
      "<class 'pandas.core.frame.DataFrame'>\n",
      "Int64Index: 546766 entries, 0 to 4917\n",
      "Data columns (total 2 columns):\n",
      " #   Column  Non-Null Count   Dtype         \n",
      "---  ------  --------------   -----         \n",
      " 0   0       546766 non-null  datetime64[ns]\n",
      " 1   1       535938 non-null  object        \n",
      "dtypes: datetime64[ns](1), object(1)\n",
      "memory usage: 12.5+ MB\n"
     ]
    }
   ],
   "source": [
    "df[0] = pd.to_datetime(df[0])\n",
    "df.info()"
   ]
  },
  {
   "cell_type": "markdown",
   "metadata": {},
   "source": [
    "## 将边界层数据中,问题处理下"
   ]
  },
  {
   "cell_type": "code",
   "execution_count": 6,
   "metadata": {},
   "outputs": [
    {
     "name": "stdout",
     "output_type": "stream",
     "text": [
      "<class 'pandas.core.frame.DataFrame'>\n",
      "Int64Index: 546766 entries, 0 to 4917\n",
      "Data columns (total 2 columns):\n",
      " #   Column  Non-Null Count   Dtype         \n",
      "---  ------  --------------   -----         \n",
      " 0   0       546766 non-null  datetime64[ns]\n",
      " 1   1       535938 non-null  float64       \n",
      "dtypes: datetime64[ns](1), float64(1)\n",
      "memory usage: 12.5 MB\n"
     ]
    }
   ],
   "source": [
    "def handler(s):\n",
    "    if ',' in str(s):\n",
    "        nums = [float(i) for i in s.split(',')]\n",
    "        return sum(nums)/len(nums)\n",
    "    else:\n",
    "        return float(s)\n",
    "df[1] = df[1].apply(handler)\n",
    "df.info()"
   ]
  },
  {
   "cell_type": "markdown",
   "metadata": {},
   "source": [
    "## 完成分组依据计算出来"
   ]
  },
  {
   "cell_type": "code",
   "execution_count": 7,
   "metadata": {},
   "outputs": [
    {
     "data": {
      "text/html": [
       "<div>\n",
       "<style scoped>\n",
       "    .dataframe tbody tr th:only-of-type {\n",
       "        vertical-align: middle;\n",
       "    }\n",
       "\n",
       "    .dataframe tbody tr th {\n",
       "        vertical-align: top;\n",
       "    }\n",
       "\n",
       "    .dataframe thead th {\n",
       "        text-align: right;\n",
       "    }\n",
       "</style>\n",
       "<table border=\"1\" class=\"dataframe\">\n",
       "  <thead>\n",
       "    <tr style=\"text-align: right;\">\n",
       "      <th></th>\n",
       "      <th>0</th>\n",
       "      <th>1</th>\n",
       "      <th>dt</th>\n",
       "    </tr>\n",
       "  </thead>\n",
       "  <tbody>\n",
       "    <tr>\n",
       "      <th>0</th>\n",
       "      <td>2015-05-26 14:48:31</td>\n",
       "      <td>1.6050</td>\n",
       "      <td>2015-05-26 14:00:00</td>\n",
       "    </tr>\n",
       "    <tr>\n",
       "      <th>1</th>\n",
       "      <td>2015-05-26 15:36:40</td>\n",
       "      <td>1.4325</td>\n",
       "      <td>2015-05-26 15:00:00</td>\n",
       "    </tr>\n",
       "    <tr>\n",
       "      <th>2</th>\n",
       "      <td>2015-05-26 15:42:23</td>\n",
       "      <td>1.7250</td>\n",
       "      <td>2015-05-26 15:00:00</td>\n",
       "    </tr>\n",
       "    <tr>\n",
       "      <th>3</th>\n",
       "      <td>2015-05-26 16:02:48</td>\n",
       "      <td>1.6050</td>\n",
       "      <td>2015-05-26 16:00:00</td>\n",
       "    </tr>\n",
       "    <tr>\n",
       "      <th>4</th>\n",
       "      <td>2015-05-26 16:03:42</td>\n",
       "      <td>1.6275</td>\n",
       "      <td>2015-05-26 16:00:00</td>\n",
       "    </tr>\n",
       "    <tr>\n",
       "      <th>...</th>\n",
       "      <td>...</td>\n",
       "      <td>...</td>\n",
       "      <td>...</td>\n",
       "    </tr>\n",
       "    <tr>\n",
       "      <th>4913</th>\n",
       "      <td>2021-03-17 11:01:18</td>\n",
       "      <td>NaN</td>\n",
       "      <td>2021-03-17 11:00:00</td>\n",
       "    </tr>\n",
       "    <tr>\n",
       "      <th>4914</th>\n",
       "      <td>2021-03-17 11:06:12</td>\n",
       "      <td>NaN</td>\n",
       "      <td>2021-03-17 11:00:00</td>\n",
       "    </tr>\n",
       "    <tr>\n",
       "      <th>4915</th>\n",
       "      <td>2021-03-17 11:11:06</td>\n",
       "      <td>NaN</td>\n",
       "      <td>2021-03-17 11:00:00</td>\n",
       "    </tr>\n",
       "    <tr>\n",
       "      <th>4916</th>\n",
       "      <td>2021-03-17 11:16:00</td>\n",
       "      <td>NaN</td>\n",
       "      <td>2021-03-17 11:00:00</td>\n",
       "    </tr>\n",
       "    <tr>\n",
       "      <th>4917</th>\n",
       "      <td>2021-03-17 11:20:52</td>\n",
       "      <td>NaN</td>\n",
       "      <td>2021-03-17 11:00:00</td>\n",
       "    </tr>\n",
       "  </tbody>\n",
       "</table>\n",
       "<p>546766 rows × 3 columns</p>\n",
       "</div>"
      ],
      "text/plain": [
       "                       0       1                  dt\n",
       "0    2015-05-26 14:48:31  1.6050 2015-05-26 14:00:00\n",
       "1    2015-05-26 15:36:40  1.4325 2015-05-26 15:00:00\n",
       "2    2015-05-26 15:42:23  1.7250 2015-05-26 15:00:00\n",
       "3    2015-05-26 16:02:48  1.6050 2015-05-26 16:00:00\n",
       "4    2015-05-26 16:03:42  1.6275 2015-05-26 16:00:00\n",
       "...                  ...     ...                 ...\n",
       "4913 2021-03-17 11:01:18     NaN 2021-03-17 11:00:00\n",
       "4914 2021-03-17 11:06:12     NaN 2021-03-17 11:00:00\n",
       "4915 2021-03-17 11:11:06     NaN 2021-03-17 11:00:00\n",
       "4916 2021-03-17 11:16:00     NaN 2021-03-17 11:00:00\n",
       "4917 2021-03-17 11:20:52     NaN 2021-03-17 11:00:00\n",
       "\n",
       "[546766 rows x 3 columns]"
      ]
     },
     "execution_count": 7,
     "metadata": {},
     "output_type": "execute_result"
    }
   ],
   "source": [
    "df['dt'] = df[0].apply(lambda dt: datetime(dt.year, dt.month, dt.day, dt.hour))\n",
    "df"
   ]
  },
  {
   "cell_type": "code",
   "execution_count": 8,
   "metadata": {},
   "outputs": [],
   "source": [
    "df[['dt', 1]].to_csv(r'bjc.csv')"
   ]
  },
  {
   "cell_type": "markdown",
   "metadata": {},
   "source": [
    "## 分组求均值，并保存文件"
   ]
  },
  {
   "cell_type": "code",
   "execution_count": 15,
   "metadata": {},
   "outputs": [],
   "source": [
    "df[['dt', 1]].groupby('dt').mean().to_excel('res.csv')"
   ]
  }
 ],
 "metadata": {
  "kernelspec": {
   "display_name": "Python 3.8.1 64-bit",
   "language": "python",
   "name": "python38164bite5fe43bacf6f47aeb3faa90b88476768"
  },
  "language_info": {
   "codemirror_mode": {
    "name": "ipython",
    "version": 3
   },
   "file_extension": ".py",
   "mimetype": "text/x-python",
   "name": "python",
   "nbconvert_exporter": "python",
   "pygments_lexer": "ipython3",
   "version": "3.8.1"
  },
  "toc": {
   "base_numbering": 1,
   "nav_menu": {},
   "number_sections": true,
   "sideBar": true,
   "skip_h1_title": true,
   "title_cell": "Table of Contents",
   "title_sidebar": "Contents",
   "toc_cell": true,
   "toc_position": {},
   "toc_section_display": true,
   "toc_window_display": true
  },
  "varInspector": {
   "cols": {
    "lenName": 16,
    "lenType": 16,
    "lenVar": 40
   },
   "kernels_config": {
    "python": {
     "delete_cmd_postfix": "",
     "delete_cmd_prefix": "del ",
     "library": "var_list.py",
     "varRefreshCmd": "print(var_dic_list())"
    },
    "r": {
     "delete_cmd_postfix": ") ",
     "delete_cmd_prefix": "rm(",
     "library": "var_list.r",
     "varRefreshCmd": "cat(var_dic_list()) "
    }
   },
   "types_to_exclude": [
    "module",
    "function",
    "builtin_function_or_method",
    "instance",
    "_Feature"
   ],
   "window_display": false
  }
 },
 "nbformat": 4,
 "nbformat_minor": 2
}
