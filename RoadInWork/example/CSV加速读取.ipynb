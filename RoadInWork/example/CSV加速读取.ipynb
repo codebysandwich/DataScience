{
 "cells": [
  {
   "cell_type": "markdown",
   "metadata": {
    "toc": true
   },
   "source": [
    "<h1>Table of Contents<span class=\"tocSkip\"></span></h1>\n",
    "<div class=\"toc\"><ul class=\"toc-item\"></ul></div>"
   ]
  },
  {
   "cell_type": "code",
   "execution_count": 1,
   "metadata": {},
   "outputs": [],
   "source": [
    "import pandas as pd\n",
    "from Reduce_fastload import reduce_fastload\n",
    "file = r'/Users/caizhiming/Documents/MyCode/TO_YY/files/processed_data.csv'"
   ]
  },
  {
   "cell_type": "code",
   "execution_count": 3,
   "metadata": {},
   "outputs": [
    {
     "name": "stdout",
     "output_type": "stream",
     "text": [
      "<class 'pandas.core.frame.DataFrame'>\n",
      "RangeIndex: 3506556 entries, 0 to 3506555\n",
      "Data columns (total 10 columns):\n",
      " #   Column  Dtype  \n",
      "---  ------  -----  \n",
      " 0   x0      float64\n",
      " 1   x1      float64\n",
      " 2   x2      float64\n",
      " 3   x3      float64\n",
      " 4   x4      float64\n",
      " 5   x5      float64\n",
      " 6   x6      float64\n",
      " 7   x7      float64\n",
      " 8   x8      float64\n",
      " 9   x9      float64\n",
      "dtypes: float64(10)\n",
      "memory usage: 267.5 MB\n",
      "CPU times: user 1.43 s, sys: 237 ms, total: 1.66 s\n",
      "Wall time: 1.68 s\n"
     ]
    }
   ],
   "source": [
    "%%time\n",
    "df = pd.read_csv(file)\n",
    "df.info()"
   ]
  },
  {
   "cell_type": "code",
   "execution_count": 7,
   "metadata": {},
   "outputs": [
    {
     "name": "stdout",
     "output_type": "stream",
     "text": [
      "<class 'pandas.core.frame.DataFrame'>\n",
      "RangeIndex: 3506556 entries, 0 to 3506555\n",
      "Data columns (total 10 columns):\n",
      " #   Column  Dtype  \n",
      "---  ------  -----  \n",
      " 0   x0      float64\n",
      " 1   x1      float64\n",
      " 2   x2      float64\n",
      " 3   x3      float64\n",
      " 4   x4      float64\n",
      " 5   x5      float64\n",
      " 6   x6      float64\n",
      " 7   x7      float64\n",
      " 8   x8      float64\n",
      " 9   x9      float64\n",
      "dtypes: float64(10)\n",
      "memory usage: 267.5 MB\n",
      "CPU times: user 1.58 s, sys: 345 ms, total: 1.92 s\n",
      "Wall time: 1.92 s\n"
     ]
    }
   ],
   "source": [
    "%%time\n",
    "df = pd.concat(pd.read_csv(file, chunksize=1000000))\n",
    "df.info()"
   ]
  },
  {
   "cell_type": "code",
   "execution_count": 8,
   "metadata": {},
   "outputs": [
    {
     "name": "stdout",
     "output_type": "stream",
     "text": [
      "Memory usage of dataframe is 12.51 MB\n",
      "Memory usage after optimization is: 5.76 MB\n",
      "Decreased by 54.0%\n",
      "load time: 0.059329986572265625\n",
      "CPU times: user 53.7 ms, sys: 7.49 ms, total: 61.2 ms\n",
      "Wall time: 61.5 ms\n",
      "<class 'pandas.core.frame.DataFrame'>\n",
      "Int64Index: 546766 entries, 0 to 546765\n",
      "Data columns (total 3 columns):\n",
      " #   Column      Non-Null Count   Dtype   \n",
      "---  ------      --------------   -----   \n",
      " 0   Unnamed: 0  546766 non-null  int16   \n",
      " 1   dt          546766 non-null  category\n",
      " 2   1           535938 non-null  float16 \n",
      "dtypes: category(1), float16(1), int16(1)\n",
      "memory usage: 9.9 MB\n"
     ]
    }
   ],
   "source": [
    "process = reduce_fastload(file, use_HDF5=True)\n",
    "process.reduce_data()\n",
    "%time df = process.reload_data()\n",
    "df.info()"
   ]
  }
 ],
 "metadata": {
  "kernelspec": {
   "display_name": "Python 3.8.1 64-bit",
   "language": "python",
   "name": "python38164bite5fe43bacf6f47aeb3faa90b88476768"
  },
  "language_info": {
   "codemirror_mode": {
    "name": "ipython",
    "version": 3
   },
   "file_extension": ".py",
   "mimetype": "text/x-python",
   "name": "python",
   "nbconvert_exporter": "python",
   "pygments_lexer": "ipython3",
   "version": "3.8.1"
  },
  "toc": {
   "base_numbering": 1,
   "nav_menu": {},
   "number_sections": true,
   "sideBar": true,
   "skip_h1_title": true,
   "title_cell": "Table of Contents",
   "title_sidebar": "Contents",
   "toc_cell": true,
   "toc_position": {},
   "toc_section_display": true,
   "toc_window_display": false
  },
  "varInspector": {
   "cols": {
    "lenName": 16,
    "lenType": 16,
    "lenVar": 40
   },
   "kernels_config": {
    "python": {
     "delete_cmd_postfix": "",
     "delete_cmd_prefix": "del ",
     "library": "var_list.py",
     "varRefreshCmd": "print(var_dic_list())"
    },
    "r": {
     "delete_cmd_postfix": ") ",
     "delete_cmd_prefix": "rm(",
     "library": "var_list.r",
     "varRefreshCmd": "cat(var_dic_list()) "
    }
   },
   "types_to_exclude": [
    "module",
    "function",
    "builtin_function_or_method",
    "instance",
    "_Feature"
   ],
   "window_display": false
  }
 },
 "nbformat": 4,
 "nbformat_minor": 2
}
