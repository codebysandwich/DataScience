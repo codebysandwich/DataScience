{
 "cells": [
  {
   "cell_type": "markdown",
   "metadata": {},
   "source": [
    "# Animation in Matplotlib"
   ]
  },
  {
   "cell_type": "markdown",
   "metadata": {
    "toc": true
   },
   "source": [
    "<h1>Table of Contents<span class=\"tocSkip\"></span></h1>\n",
    "<div class=\"toc\"><ul class=\"toc-item\"><li><span><a href=\"#准备数据\" data-toc-modified-id=\"准备数据-1\"><span class=\"toc-item-num\">1&nbsp;&nbsp;</span>准备数据</a></span></li><li><span><a href=\"#高斯平滑\" data-toc-modified-id=\"高斯平滑-2\"><span class=\"toc-item-num\">2&nbsp;&nbsp;</span>高斯平滑</a></span></li><li><span><a href=\"#绘制动画\" data-toc-modified-id=\"绘制动画-3\"><span class=\"toc-item-num\">3&nbsp;&nbsp;</span>绘制动画</a></span></li></ul></div>"
   ]
  },
  {
   "cell_type": "markdown",
   "metadata": {},
   "source": [
    "本文演示在matplotlib中使用`animation.Function`实现动画效果：\n",
    "\n",
    "[参考文章](https://mp.weixin.qq.com/s/cbKo50SRqmoNXTxzy26Y_g)"
   ]
  },
  {
   "cell_type": "markdown",
   "metadata": {},
   "source": [
    "## 准备数据 "
   ]
  },
  {
   "cell_type": "markdown",
   "metadata": {},
   "source": [
    "数据集来源[滥用药物CDC](https://www.drugabuse.gov/sites/default/files/overdose_data_1999-2015.xls)\n",
    "\n",
    "+ 引用依赖"
   ]
  },
  {
   "cell_type": "code",
   "execution_count": 1,
   "metadata": {},
   "outputs": [],
   "source": [
    "import numpy as np\n",
    "import pandas as pd\n",
    "import matplotlib.pyplot as plt\n",
    "import matplotlib.animation as animation\n",
    "from matplotlib.animation import PillowWriter\n",
    "from matplotlib.animation import FuncAnimation"
   ]
  },
  {
   "cell_type": "code",
   "execution_count": 2,
   "metadata": {},
   "outputs": [
    {
     "data": {
      "text/plain": [
       "1999     1960.0\n",
       "2000     1842.0\n",
       "2001     1779.0\n",
       "2002     2089.0\n",
       "2003     2080.0\n",
       "2004     1878.0\n",
       "2005     2009.0\n",
       "2006     2088.0\n",
       "2007     2399.0\n",
       "2008     3041.0\n",
       "2009     3278.0\n",
       "2010     3036.0\n",
       "2011     4397.0\n",
       "2012     5925.0\n",
       "2013     8257.0\n",
       "2014    10574.0\n",
       "2015    12989.0\n",
       "Name: 18, dtype: float64"
      ]
     },
     "execution_count": 2,
     "metadata": {},
     "output_type": "execute_result"
    }
   ],
   "source": [
    "data = pd.read_excel(r'../../data/overdose_data_1999-2015.xls', sheet_name='Online', skiprows=6)\n",
    "over_heroin = data.iloc[18, 2:].astype('float')\n",
    "over_heroin"
   ]
  },
  {
   "cell_type": "code",
   "execution_count": 3,
   "metadata": {
    "scrolled": false
   },
   "outputs": [
    {
     "data": {
      "image/png": "[encoded data removed]",
      "text/plain": [
       "<Figure size 1200x720 with 1 Axes>"
      ]
     },
     "metadata": {
      "needs_background": "light"
     },
     "output_type": "display_data"
    }
   ],
   "source": [
    "fig, ax = plt.subplots(figsize=(10, 6), dpi=120)\n",
    "ax.set_xlabel('Year')\n",
    "ax.set_ylabel('Heroin Overdoses')\n",
    "ax.set_title('Heroin Overdoses per Year', fontsize=14)\n",
    "ax.set_xlim(1999, 2015)\n",
    "ax.set_ylim(over_heroin.min(), over_heroin.max())\n",
    "line, = ax.plot([], [], c='r')\n",
    "index = over_heroin.index.values.astype(int)\n",
    "def animate(i):\n",
    "    line.set_data(index[:i+1], over_heroin.values[:i+1])\n",
    "    return line,\n",
    "\n",
    "ani = FuncAnimation(fig, animate, range(len(over_heroin)), interval=100)\n",
    "ani.save('test.gif', writer=PillowWriter())"
   ]
  },
  {
   "cell_type": "markdown",
   "metadata": {},
   "source": [
    "## 高斯平滑"
   ]
  },
  {
   "cell_type": "markdown",
   "metadata": {},
   "source": [
    "## 绘制动画 "
   ]
  }
 ],
 "metadata": {
  "kernelspec": {
   "display_name": "Python 3.8.1 64-bit",
   "language": "python",
   "name": "python38164bite5fe43bacf6f47aeb3faa90b88476768"
  },
  "language_info": {
   "codemirror_mode": {
    "name": "ipython",
    "version": 3
   },
   "file_extension": ".py",
   "mimetype": "text/x-python",
   "name": "python",
   "nbconvert_exporter": "python",
   "pygments_lexer": "ipython3",
   "version": "3.8.1"
  },
  "toc": {
   "base_numbering": 1,
   "nav_menu": {},
   "number_sections": true,
   "sideBar": true,
   "skip_h1_title": true,
   "title_cell": "Table of Contents",
   "title_sidebar": "Contents",
   "toc_cell": true,
   "toc_position": {},
   "toc_section_display": true,
   "toc_window_display": false
  },
  "varInspector": {
   "cols": {
    "lenName": 16,
    "lenType": 16,
    "lenVar": 40
   },
   "kernels_config": {
    "python": {
     "delete_cmd_postfix": "",
     "delete_cmd_prefix": "del ",
     "library": "var_list.py",
     "varRefreshCmd": "print(var_dic_list())"
    },
    "r": {
     "delete_cmd_postfix": ") ",
     "delete_cmd_prefix": "rm(",
     "library": "var_list.r",
     "varRefreshCmd": "cat(var_dic_list()) "
    }
   },
   "types_to_exclude": [
    "module",
    "function",
    "builtin_function_or_method",
    "instance",
    "_Feature"
   ],
   "window_display": false
  }
 },
 "nbformat": 4,
 "nbformat_minor": 2
}
