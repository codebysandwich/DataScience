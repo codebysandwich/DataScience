{
 "cells": [
  {
   "cell_type": "markdown",
   "metadata": {},
   "source": [
    "# Python绘制污染玫瑰图"
   ]
  },
  {
   "cell_type": "markdown",
   "metadata": {
    "toc": true
   },
   "source": [
    "<h1>Table of Contents<span class=\"tocSkip\"></span></h1>\n",
    "<div class=\"toc\"><ul class=\"toc-item\"><li><span><a href=\"#获取数据\" data-toc-modified-id=\"获取数据-1\"><span class=\"toc-item-num\">1&nbsp;&nbsp;</span>获取数据</a></span></li><li><span><a href=\"#处理数据\" data-toc-modified-id=\"处理数据-2\"><span class=\"toc-item-num\">2&nbsp;&nbsp;</span>处理数据</a></span></li><li><span><a href=\"#生成网格数据\" data-toc-modified-id=\"生成网格数据-3\"><span class=\"toc-item-num\">3&nbsp;&nbsp;</span>生成网格数据</a></span></li><li><span><a href=\"#绘制污染玫瑰图\" data-toc-modified-id=\"绘制污染玫瑰图-4\"><span class=\"toc-item-num\">4&nbsp;&nbsp;</span>绘制污染玫瑰图</a></span></li><li><span><a href=\"#自定义cmap\" data-toc-modified-id=\"自定义cmap-5\"><span class=\"toc-item-num\">5&nbsp;&nbsp;</span>自定义cmap</a></span></li><li><span><a href=\"#使用pcolormesh实现\" data-toc-modified-id=\"使用pcolormesh实现-6\"><span class=\"toc-item-num\">6&nbsp;&nbsp;</span>使用pcolormesh实现</a></span></li></ul></div>"
   ]
  },
  {
   "cell_type": "markdown",
   "metadata": {},
   "source": [
    "整体的思路是使用`contourf`函数实现污染玫瑰图，具体步骤如下:<br>\n",
    "+ 读取数据\n",
    "+ 处理数据\n",
    "+ 数据网格化\n",
    "+ 绘制污染玫瑰图"
   ]
  },
  {
   "cell_type": "code",
   "execution_count": 1,
   "metadata": {},
   "outputs": [],
   "source": [
    "import numpy as np\n",
    "import pandas as pd\n",
    "import matplotlib.pyplot as plt"
   ]
  },
  {
   "cell_type": "markdown",
   "metadata": {},
   "source": [
    "## 获取数据\n",
    "这里我使用的是完整的数据，其中没有nan(缺失值)。我建议在绘图之前如果有缺失或异常数据需要认真处理。这里我们主要展示绘图部分"
   ]
  },
  {
   "cell_type": "code",
   "execution_count": 3,
   "metadata": {},
   "outputs": [
    {
     "data": {
      "text/html": [
       "<div>\n",
       "<style scoped>\n",
       "    .dataframe tbody tr th:only-of-type {\n",
       "        vertical-align: middle;\n",
       "    }\n",
       "\n",
       "    .dataframe tbody tr th {\n",
       "        vertical-align: top;\n",
       "    }\n",
       "\n",
       "    .dataframe thead th {\n",
       "        text-align: right;\n",
       "    }\n",
       "</style>\n",
       "<table border=\"1\" class=\"dataframe\">\n",
       "  <thead>\n",
       "    <tr style=\"text-align: right;\">\n",
       "      <th></th>\n",
       "      <th>风向(deg)</th>\n",
       "      <th>风速(m/s)</th>\n",
       "      <th>PM2.5</th>\n",
       "    </tr>\n",
       "    <tr>\n",
       "      <th>时间</th>\n",
       "      <th></th>\n",
       "      <th></th>\n",
       "      <th></th>\n",
       "    </tr>\n",
       "  </thead>\n",
       "  <tbody>\n",
       "    <tr>\n",
       "      <th>2020-02-01 00:00</th>\n",
       "      <td>229.9</td>\n",
       "      <td>1.3</td>\n",
       "      <td>106</td>\n",
       "    </tr>\n",
       "    <tr>\n",
       "      <th>2020-02-01 01:00</th>\n",
       "      <td>239.3</td>\n",
       "      <td>1.1</td>\n",
       "      <td>110</td>\n",
       "    </tr>\n",
       "    <tr>\n",
       "      <th>2020-02-01 02:00</th>\n",
       "      <td>243.2</td>\n",
       "      <td>0.7</td>\n",
       "      <td>98</td>\n",
       "    </tr>\n",
       "    <tr>\n",
       "      <th>2020-02-01 03:00</th>\n",
       "      <td>292.7</td>\n",
       "      <td>0.4</td>\n",
       "      <td>77</td>\n",
       "    </tr>\n",
       "    <tr>\n",
       "      <th>2020-02-01 04:00</th>\n",
       "      <td>288.2</td>\n",
       "      <td>0.5</td>\n",
       "      <td>85</td>\n",
       "    </tr>\n",
       "    <tr>\n",
       "      <th>...</th>\n",
       "      <td>...</td>\n",
       "      <td>...</td>\n",
       "      <td>...</td>\n",
       "    </tr>\n",
       "    <tr>\n",
       "      <th>2020-02-05 14:00</th>\n",
       "      <td>75.9</td>\n",
       "      <td>4.3</td>\n",
       "      <td>9</td>\n",
       "    </tr>\n",
       "    <tr>\n",
       "      <th>2020-02-05 15:00</th>\n",
       "      <td>73.3</td>\n",
       "      <td>4.3</td>\n",
       "      <td>12</td>\n",
       "    </tr>\n",
       "    <tr>\n",
       "      <th>2020-02-05 16:00</th>\n",
       "      <td>79.1</td>\n",
       "      <td>4.5</td>\n",
       "      <td>1</td>\n",
       "    </tr>\n",
       "    <tr>\n",
       "      <th>2020-02-05 17:00</th>\n",
       "      <td>74.2</td>\n",
       "      <td>4.4</td>\n",
       "      <td>8</td>\n",
       "    </tr>\n",
       "    <tr>\n",
       "      <th>2020-02-05 18:00</th>\n",
       "      <td>77.7</td>\n",
       "      <td>4.3</td>\n",
       "      <td>4</td>\n",
       "    </tr>\n",
       "  </tbody>\n",
       "</table>\n",
       "<p>115 rows × 3 columns</p>\n",
       "</div>"
      ],
      "text/plain": [
       "                  风向(deg)  风速(m/s) PM2.5\n",
       "时间                                      \n",
       "2020-02-01 00:00    229.9      1.3   106\n",
       "2020-02-01 01:00    239.3      1.1   110\n",
       "2020-02-01 02:00    243.2      0.7    98\n",
       "2020-02-01 03:00    292.7      0.4    77\n",
       "2020-02-01 04:00    288.2      0.5    85\n",
       "...                   ...      ...   ...\n",
       "2020-02-05 14:00     75.9      4.3     9\n",
       "2020-02-05 15:00     73.3      4.3    12\n",
       "2020-02-05 16:00     79.1      4.5     1\n",
       "2020-02-05 17:00     74.2      4.4     8\n",
       "2020-02-05 18:00     77.7      4.3     4\n",
       "\n",
       "[115 rows x 3 columns]"
      ]
     },
     "execution_count": 3,
     "metadata": {},
     "output_type": "execute_result"
    }
   ],
   "source": [
    "file = r'../../data/20年2月污染气象参数.xls'\n",
    "data = pd.read_excel(file, usecols=['时间', '风速(m/s)', '风向(deg)', 'PM2.5'], index_col=0).iloc[:115, :]\n",
    "data"
   ]
  },
  {
   "cell_type": "markdown",
   "metadata": {},
   "source": [
    "## 处理数据\n",
    "1. 将风向数据转化为弧度数据"
   ]
  },
  {
   "cell_type": "code",
   "execution_count": 4,
   "metadata": {},
   "outputs": [],
   "source": [
    "data['风向(deg)'] = np.radians(data['风向(deg)'])"
   ]
  },
  {
   "cell_type": "markdown",
   "metadata": {},
   "source": [
    "2. 处理风速风向分类的单位"
   ]
  },
  {
   "cell_type": "code",
   "execution_count": 5,
   "metadata": {},
   "outputs": [],
   "source": [
    "v = data['风速(m/s)']\n",
    "# 风速按16等分分类\n",
    "speed = np.linspace(v.min(), v.max(), endpoint=True, num=16)\n",
    "# 风向按32等分分类\n",
    "deg = np.linspace(0, 2*np.pi, endpoint=True, num=32)"
   ]
  },
  {
   "cell_type": "markdown",
   "metadata": {},
   "source": [
    "## 生成网格数据"
   ]
  },
  {
   "cell_type": "code",
   "execution_count": 6,
   "metadata": {},
   "outputs": [],
   "source": [
    "def maker(s, sequence):\n",
    "    '''\n",
    "    将划分网格内的数据按较小值划分\n",
    "    '''\n",
    "    for i, val in enumerate(sequence):\n",
    "        if s <= sequence[i+1]:\n",
    "            return val"
   ]
  },
  {
   "cell_type": "code",
   "execution_count": 7,
   "metadata": {},
   "outputs": [
    {
     "data": {
      "text/html": [
       "<div>\n",
       "<style scoped>\n",
       "    .dataframe tbody tr th:only-of-type {\n",
       "        vertical-align: middle;\n",
       "    }\n",
       "\n",
       "    .dataframe tbody tr th {\n",
       "        vertical-align: top;\n",
       "    }\n",
       "\n",
       "    .dataframe thead th {\n",
       "        text-align: right;\n",
       "    }\n",
       "</style>\n",
       "<table border=\"1\" class=\"dataframe\">\n",
       "  <thead>\n",
       "    <tr style=\"text-align: right;\">\n",
       "      <th></th>\n",
       "      <th>风向(deg)</th>\n",
       "      <th>风速(m/s)</th>\n",
       "      <th>PM2.5</th>\n",
       "    </tr>\n",
       "    <tr>\n",
       "      <th>时间</th>\n",
       "      <th></th>\n",
       "      <th></th>\n",
       "      <th></th>\n",
       "    </tr>\n",
       "  </thead>\n",
       "  <tbody>\n",
       "    <tr>\n",
       "      <th>2020-02-01 00:00</th>\n",
       "      <td>3.850985</td>\n",
       "      <td>1.14</td>\n",
       "      <td>106</td>\n",
       "    </tr>\n",
       "    <tr>\n",
       "      <th>2020-02-01 01:00</th>\n",
       "      <td>4.053668</td>\n",
       "      <td>0.86</td>\n",
       "      <td>110</td>\n",
       "    </tr>\n",
       "    <tr>\n",
       "      <th>2020-02-01 02:00</th>\n",
       "      <td>4.053668</td>\n",
       "      <td>0.58</td>\n",
       "      <td>98</td>\n",
       "    </tr>\n",
       "    <tr>\n",
       "      <th>2020-02-01 03:00</th>\n",
       "      <td>5.067085</td>\n",
       "      <td>0.30</td>\n",
       "      <td>77</td>\n",
       "    </tr>\n",
       "    <tr>\n",
       "      <th>2020-02-01 04:00</th>\n",
       "      <td>4.864402</td>\n",
       "      <td>0.30</td>\n",
       "      <td>85</td>\n",
       "    </tr>\n",
       "  </tbody>\n",
       "</table>\n",
       "</div>"
      ],
      "text/plain": [
       "                   风向(deg)  风速(m/s) PM2.5\n",
       "时间                                       \n",
       "2020-02-01 00:00  3.850985     1.14   106\n",
       "2020-02-01 01:00  4.053668     0.86   110\n",
       "2020-02-01 02:00  4.053668     0.58    98\n",
       "2020-02-01 03:00  5.067085     0.30    77\n",
       "2020-02-01 04:00  4.864402     0.30    85"
      ]
     },
     "execution_count": 7,
     "metadata": {},
     "output_type": "execute_result"
    }
   ],
   "source": [
    "d = data['风向(deg)']\n",
    "data['风速(m/s)'] = v.apply(maker, sequence=speed)\n",
    "data['风向(deg)'] = d.apply(maker, sequence=deg)\n",
    "data.head()"
   ]
  },
  {
   "cell_type": "markdown",
   "metadata": {},
   "source": [
    "+ 使用mean方法对PM2.5数据进行栅格化分类"
   ]
  },
  {
   "cell_type": "code",
   "execution_count": 8,
   "metadata": {},
   "outputs": [
    {
     "data": {
      "text/html": [
       "<div>\n",
       "<style scoped>\n",
       "    .dataframe tbody tr th:only-of-type {\n",
       "        vertical-align: middle;\n",
       "    }\n",
       "\n",
       "    .dataframe tbody tr th {\n",
       "        vertical-align: top;\n",
       "    }\n",
       "\n",
       "    .dataframe thead th {\n",
       "        text-align: right;\n",
       "    }\n",
       "</style>\n",
       "<table border=\"1\" class=\"dataframe\">\n",
       "  <thead>\n",
       "    <tr style=\"text-align: right;\">\n",
       "      <th>风向(deg)</th>\n",
       "      <th>0.000000</th>\n",
       "      <th>0.202683</th>\n",
       "      <th>0.405367</th>\n",
       "      <th>0.608050</th>\n",
       "      <th>0.810734</th>\n",
       "      <th>1.013417</th>\n",
       "      <th>1.216100</th>\n",
       "      <th>1.418784</th>\n",
       "      <th>1.621467</th>\n",
       "      <th>1.824151</th>\n",
       "      <th>...</th>\n",
       "      <th>4.459035</th>\n",
       "      <th>4.661718</th>\n",
       "      <th>4.864402</th>\n",
       "      <th>5.067085</th>\n",
       "      <th>5.269768</th>\n",
       "      <th>5.472452</th>\n",
       "      <th>5.675135</th>\n",
       "      <th>5.877819</th>\n",
       "      <th>6.080502</th>\n",
       "      <th>6.283185</th>\n",
       "    </tr>\n",
       "    <tr>\n",
       "      <th>风速(m/s)</th>\n",
       "      <th></th>\n",
       "      <th></th>\n",
       "      <th></th>\n",
       "      <th></th>\n",
       "      <th></th>\n",
       "      <th></th>\n",
       "      <th></th>\n",
       "      <th></th>\n",
       "      <th></th>\n",
       "      <th></th>\n",
       "      <th></th>\n",
       "      <th></th>\n",
       "      <th></th>\n",
       "      <th></th>\n",
       "      <th></th>\n",
       "      <th></th>\n",
       "      <th></th>\n",
       "      <th></th>\n",
       "      <th></th>\n",
       "      <th></th>\n",
       "      <th></th>\n",
       "    </tr>\n",
       "  </thead>\n",
       "  <tbody>\n",
       "    <tr>\n",
       "      <th>0.30</th>\n",
       "      <td>62.0</td>\n",
       "      <td>61.0</td>\n",
       "      <td>78.0</td>\n",
       "      <td>0.0</td>\n",
       "      <td>0.0</td>\n",
       "      <td>0.0</td>\n",
       "      <td>0.0</td>\n",
       "      <td>0.0</td>\n",
       "      <td>0.0</td>\n",
       "      <td>0.0</td>\n",
       "      <td>...</td>\n",
       "      <td>0.0</td>\n",
       "      <td>0.0</td>\n",
       "      <td>85.0</td>\n",
       "      <td>77.0</td>\n",
       "      <td>0.0</td>\n",
       "      <td>0.0</td>\n",
       "      <td>0.0</td>\n",
       "      <td>0.0</td>\n",
       "      <td>0.0</td>\n",
       "      <td>0.0</td>\n",
       "    </tr>\n",
       "    <tr>\n",
       "      <th>0.58</th>\n",
       "      <td>82.0</td>\n",
       "      <td>0.0</td>\n",
       "      <td>0.0</td>\n",
       "      <td>0.0</td>\n",
       "      <td>0.0</td>\n",
       "      <td>0.0</td>\n",
       "      <td>0.0</td>\n",
       "      <td>0.0</td>\n",
       "      <td>0.0</td>\n",
       "      <td>65.0</td>\n",
       "      <td>...</td>\n",
       "      <td>0.0</td>\n",
       "      <td>0.0</td>\n",
       "      <td>0.0</td>\n",
       "      <td>0.0</td>\n",
       "      <td>0.0</td>\n",
       "      <td>0.0</td>\n",
       "      <td>0.0</td>\n",
       "      <td>0.0</td>\n",
       "      <td>93.5</td>\n",
       "      <td>0.0</td>\n",
       "    </tr>\n",
       "    <tr>\n",
       "      <th>0.86</th>\n",
       "      <td>65.0</td>\n",
       "      <td>0.0</td>\n",
       "      <td>0.0</td>\n",
       "      <td>0.0</td>\n",
       "      <td>0.0</td>\n",
       "      <td>0.0</td>\n",
       "      <td>0.0</td>\n",
       "      <td>0.0</td>\n",
       "      <td>0.0</td>\n",
       "      <td>0.0</td>\n",
       "      <td>...</td>\n",
       "      <td>0.0</td>\n",
       "      <td>0.0</td>\n",
       "      <td>0.0</td>\n",
       "      <td>0.0</td>\n",
       "      <td>0.0</td>\n",
       "      <td>0.0</td>\n",
       "      <td>0.0</td>\n",
       "      <td>0.0</td>\n",
       "      <td>0.0</td>\n",
       "      <td>0.0</td>\n",
       "    </tr>\n",
       "    <tr>\n",
       "      <th>1.14</th>\n",
       "      <td>0.0</td>\n",
       "      <td>89.0</td>\n",
       "      <td>0.0</td>\n",
       "      <td>0.0</td>\n",
       "      <td>0.0</td>\n",
       "      <td>0.0</td>\n",
       "      <td>0.0</td>\n",
       "      <td>66.0</td>\n",
       "      <td>30.0</td>\n",
       "      <td>0.0</td>\n",
       "      <td>...</td>\n",
       "      <td>0.0</td>\n",
       "      <td>0.0</td>\n",
       "      <td>0.0</td>\n",
       "      <td>0.0</td>\n",
       "      <td>0.0</td>\n",
       "      <td>0.0</td>\n",
       "      <td>0.0</td>\n",
       "      <td>0.0</td>\n",
       "      <td>0.0</td>\n",
       "      <td>0.0</td>\n",
       "    </tr>\n",
       "    <tr>\n",
       "      <th>1.42</th>\n",
       "      <td>0.0</td>\n",
       "      <td>0.0</td>\n",
       "      <td>0.0</td>\n",
       "      <td>0.0</td>\n",
       "      <td>37.0</td>\n",
       "      <td>0.0</td>\n",
       "      <td>0.0</td>\n",
       "      <td>0.0</td>\n",
       "      <td>91.5</td>\n",
       "      <td>24.0</td>\n",
       "      <td>...</td>\n",
       "      <td>0.0</td>\n",
       "      <td>0.0</td>\n",
       "      <td>0.0</td>\n",
       "      <td>0.0</td>\n",
       "      <td>0.0</td>\n",
       "      <td>0.0</td>\n",
       "      <td>0.0</td>\n",
       "      <td>0.0</td>\n",
       "      <td>0.0</td>\n",
       "      <td>0.0</td>\n",
       "    </tr>\n",
       "    <tr>\n",
       "      <th>1.70</th>\n",
       "      <td>67.0</td>\n",
       "      <td>114.0</td>\n",
       "      <td>0.0</td>\n",
       "      <td>78.0</td>\n",
       "      <td>0.0</td>\n",
       "      <td>36.0</td>\n",
       "      <td>21.0</td>\n",
       "      <td>0.0</td>\n",
       "      <td>32.0</td>\n",
       "      <td>0.0</td>\n",
       "      <td>...</td>\n",
       "      <td>0.0</td>\n",
       "      <td>0.0</td>\n",
       "      <td>0.0</td>\n",
       "      <td>0.0</td>\n",
       "      <td>0.0</td>\n",
       "      <td>0.0</td>\n",
       "      <td>0.0</td>\n",
       "      <td>0.0</td>\n",
       "      <td>0.0</td>\n",
       "      <td>0.0</td>\n",
       "    </tr>\n",
       "  </tbody>\n",
       "</table>\n",
       "<p>6 rows × 32 columns</p>\n",
       "</div>"
      ],
      "text/plain": [
       "风向(deg)  0.000000  0.202683  0.405367  0.608050  0.810734  1.013417  1.216100  \\\n",
       "风速(m/s)                                                                         \n",
       "0.30         62.0      61.0      78.0       0.0       0.0       0.0       0.0   \n",
       "0.58         82.0       0.0       0.0       0.0       0.0       0.0       0.0   \n",
       "0.86         65.0       0.0       0.0       0.0       0.0       0.0       0.0   \n",
       "1.14          0.0      89.0       0.0       0.0       0.0       0.0       0.0   \n",
       "1.42          0.0       0.0       0.0       0.0      37.0       0.0       0.0   \n",
       "1.70         67.0     114.0       0.0      78.0       0.0      36.0      21.0   \n",
       "\n",
       "风向(deg)  1.418784  1.621467  1.824151  ...  4.459035  4.661718  4.864402  \\\n",
       "风速(m/s)                                ...                                 \n",
       "0.30          0.0       0.0       0.0  ...       0.0       0.0      85.0   \n",
       "0.58          0.0       0.0      65.0  ...       0.0       0.0       0.0   \n",
       "0.86          0.0       0.0       0.0  ...       0.0       0.0       0.0   \n",
       "1.14         66.0      30.0       0.0  ...       0.0       0.0       0.0   \n",
       "1.42          0.0      91.5      24.0  ...       0.0       0.0       0.0   \n",
       "1.70          0.0      32.0       0.0  ...       0.0       0.0       0.0   \n",
       "\n",
       "风向(deg)  5.067085  5.269768  5.472452  5.675135  5.877819  6.080502  6.283185  \n",
       "风速(m/s)                                                                        \n",
       "0.30         77.0       0.0       0.0       0.0       0.0       0.0       0.0  \n",
       "0.58          0.0       0.0       0.0       0.0       0.0      93.5       0.0  \n",
       "0.86          0.0       0.0       0.0       0.0       0.0       0.0       0.0  \n",
       "1.14          0.0       0.0       0.0       0.0       0.0       0.0       0.0  \n",
       "1.42          0.0       0.0       0.0       0.0       0.0       0.0       0.0  \n",
       "1.70          0.0       0.0       0.0       0.0       0.0       0.0       0.0  \n",
       "\n",
       "[6 rows x 32 columns]"
      ]
     },
     "execution_count": 8,
     "metadata": {},
     "output_type": "execute_result"
    }
   ],
   "source": [
    "# 由于整体PM2.5数据有标记，所以需要将2.5数据处理成float类型\n",
    "data['PM2.5'] = data['PM2.5'].astype(float)\n",
    "dt = data.pivot_table(values='PM2.5', index='风速(m/s)', columns='风向(deg)', aggfunc=np.mean)\n",
    "# 补齐网格并对于缺失的网格用0值填充，这样绘图的效果好一些\n",
    "dt.fillna(0, inplace=True)\n",
    "dt = dt.reindex(index=speed, columns=deg, fill_value=0)\n",
    "dt.head(6)"
   ]
  },
  {
   "cell_type": "markdown",
   "metadata": {},
   "source": [
    "## 绘制污染玫瑰图"
   ]
  },
  {
   "cell_type": "markdown",
   "metadata": {},
   "source": [
    "1. `meshgrid()`将网格数据生成绘制数据 "
   ]
  },
  {
   "cell_type": "code",
   "execution_count": 9,
   "metadata": {},
   "outputs": [],
   "source": [
    "theta, r = np.meshgrid(deg, speed)"
   ]
  },
  {
   "cell_type": "markdown",
   "metadata": {},
   "source": [
    "2. 使用`contourf()`绘制污染玫瑰图"
   ]
  },
  {
   "cell_type": "code",
   "execution_count": 10,
   "metadata": {},
   "outputs": [
    {
     "data": {
      "image/png": "[encoded data removed]",
      "text/plain": [
       "<Figure size 432x288 with 2 Axes>"
      ]
     },
     "metadata": {
      "needs_background": "light"
     },
     "output_type": "display_data"
    }
   ],
   "source": [
    "ax = plt.subplot(projection='polar')\n",
    "ax.set_theta_zero_location(\"N\")\n",
    "ax.set_theta_direction('clockwise')\n",
    "pos = ax.contourf(theta, r, dt.to_numpy(), cmap='jet')\n",
    "plt.colorbar(pos, ax=ax)\n",
    "plt.show()"
   ]
  },
  {
   "cell_type": "markdown",
   "metadata": {},
   "source": [
    "## 自定义cmap\n",
    "目前默认使用的是jet的配色，计划实现自定义线性数值对于的颜色线性分布的cmap。"
   ]
  },
  {
   "cell_type": "markdown",
   "metadata": {},
   "source": [
    "1. 自定义颜色和取值区间"
   ]
  },
  {
   "cell_type": "code",
   "execution_count": 10,
   "metadata": {},
   "outputs": [],
   "source": [
    "import matplotlib as mpl"
   ]
  },
  {
   "cell_type": "code",
   "execution_count": 17,
   "metadata": {},
   "outputs": [],
   "source": [
    "# 数值区间\n",
    "bounds = [0, 35, 75, 115, 150]\n",
    "# 两种定义颜色的方式都可以\n",
    "colors = ['#00E400', '#FEFF05', '#FF7E00', '#FE0000']\n",
    "# colors = [np.array([0, 228, 0])/255, np.array([254, 255, 5])/255,\n",
    "#           np.array([255, 126, 0])/255, np.array([254, 0, 0])/255]\n",
    "cmap = mpl.colors.ListedColormap(colors)\n",
    "norm = mpl.colors.BoundaryNorm(bounds, cmap.N)"
   ]
  },
  {
   "cell_type": "code",
   "execution_count": 18,
   "metadata": {},
   "outputs": [
    {
     "data": {
      "image/png": "[encoded data removed]",
      "text/plain": [
       "<Figure size 432x288 with 2 Axes>"
      ]
     },
     "metadata": {
      "needs_background": "light"
     },
     "output_type": "display_data"
    }
   ],
   "source": [
    "ax = plt.subplot(projection='polar')\n",
    "ax.set_theta_zero_location(\"N\")\n",
    "ax.set_theta_direction('clockwise')\n",
    "pos = ax.contourf(theta, r, dt.to_numpy(), levels=bounds, colors=colors)\n",
    "plt.colorbar(pos, ax=ax)\n",
    "plt.show()"
   ]
  },
  {
   "cell_type": "markdown",
   "metadata": {},
   "source": [
    "## 使用pcolormesh实现"
   ]
  },
  {
   "cell_type": "code",
   "execution_count": 16,
   "metadata": {},
   "outputs": [
    {
     "data": {
      "image/png": "[encoded data removed]",
      "text/plain": [
       "<Figure size 432x288 with 2 Axes>"
      ]
     },
     "metadata": {
      "needs_background": "light"
     },
     "output_type": "display_data"
    }
   ],
   "source": [
    "ax = plt.subplot(projection='polar')\n",
    "ax.set_theta_zero_location(\"N\")\n",
    "ax.set_theta_direction('clockwise')\n",
    "pos = ax.pcolormesh(theta, r, dt.to_numpy(), cmap='jet', vmax=140)\n",
    "plt.colorbar(pos, ax=ax)\n",
    "plt.show()"
   ]
  }
 ],
 "metadata": {
  "kernelspec": {
   "display_name": "Python 3",
   "language": "python",
   "name": "python3"
  },
  "language_info": {
   "codemirror_mode": {
    "name": "ipython",
    "version": 3
   },
   "file_extension": ".py",
   "mimetype": "text/x-python",
   "name": "python",
   "nbconvert_exporter": "python",
   "pygments_lexer": "ipython3",
   "version": "3.8.1"
  },
  "toc": {
   "base_numbering": 1,
   "nav_menu": {},
   "number_sections": true,
   "sideBar": true,
   "skip_h1_title": true,
   "title_cell": "Table of Contents",
   "title_sidebar": "Contents",
   "toc_cell": true,
   "toc_position": {},
   "toc_section_display": true,
   "toc_window_display": false
  },
  "varInspector": {
   "cols": {
    "lenName": 16,
    "lenType": 16,
    "lenVar": 40
   },
   "kernels_config": {
    "python": {
     "delete_cmd_postfix": "",
     "delete_cmd_prefix": "del ",
     "library": "var_list.py",
     "varRefreshCmd": "print(var_dic_list())"
    },
    "r": {
     "delete_cmd_postfix": ") ",
     "delete_cmd_prefix": "rm(",
     "library": "var_list.r",
     "varRefreshCmd": "cat(var_dic_list()) "
    }
   },
   "types_to_exclude": [
    "module",
    "function",
    "builtin_function_or_method",
    "instance",
    "_Feature"
   ],
   "window_display": false
  }
 },
 "nbformat": 4,
 "nbformat_minor": 2
}
